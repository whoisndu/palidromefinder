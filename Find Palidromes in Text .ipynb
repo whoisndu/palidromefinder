{
 "cells": [
  {
   "cell_type": "code",
   "execution_count": 3,
   "id": "986c7a8e",
   "metadata": {},
   "outputs": [
    {
     "name": "stdout",
     "output_type": "stream",
     "text": [
      "Enter a text: The body text or body copy is the text forming the main content of a book, magazine, web page, or any other printed or digital work. This is as a contrast to both additional components such as headings, images, charts, footnotes etc. on each page, and also the pages of front matter that form the introduction to a book.\n",
      "No palindrome was found in the text.\n"
     ]
    }
   ],
   "source": [
    "def is_palindrome(word):\n",
    "    # Remove spaces and convert to lowercase\n",
    "    word = word.replace(\" \", \"\").lower()\n",
    "    # Check if the word is equal to its reverse\n",
    "    return word == word[::-1]\n",
    "\n",
    "def find_palindromes(text):\n",
    "    # Remove punctuation and convert to lowercase\n",
    "    text = ''.join(c for c in text if c.isalnum()).lower()\n",
    "    # Split the text into words\n",
    "    words = text.split()\n",
    "    # Initialize a list to store palindromes\n",
    "    palindromes = []\n",
    "    # Iterate through each combination of words and check if it is a palindrome\n",
    "    for i in range(len(words)):\n",
    "        for j in range(i+1, len(words)+1):\n",
    "            phrase = ' '.join(words[i:j])\n",
    "            if is_palindrome(phrase):\n",
    "                palindromes.append(phrase)\n",
    "    return palindromes\n",
    "\n",
    "# Accept text input from the user\n",
    "text = input(\"Enter a text: \")\n",
    "# Find palindromes in the text\n",
    "found_palindromes = find_palindromes(text)\n",
    "# Display the palindromes or a message if none found\n",
    "if found_palindromes:\n",
    "    print(\"Palindromes found in the text:\")\n",
    "    for palindrome in found_palindromes:\n",
    "        print(palindrome)\n",
    "else:\n",
    "    print(\"No palindrome was found in the text.\")\n"
   ]
  },
  {
   "cell_type": "code",
   "execution_count": null,
   "id": "7f546418",
   "metadata": {},
   "outputs": [],
   "source": []
  }
 ],
 "metadata": {
  "kernelspec": {
   "display_name": "Python 3 (ipykernel)",
   "language": "python",
   "name": "python3"
  },
  "language_info": {
   "codemirror_mode": {
    "name": "ipython",
    "version": 3
   },
   "file_extension": ".py",
   "mimetype": "text/x-python",
   "name": "python",
   "nbconvert_exporter": "python",
   "pygments_lexer": "ipython3",
   "version": "3.10.9"
  }
 },
 "nbformat": 4,
 "nbformat_minor": 5
}
